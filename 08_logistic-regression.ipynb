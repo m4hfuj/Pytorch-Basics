{
 "cells": [
  {
   "cell_type": "markdown",
   "id": "234f8ede",
   "metadata": {},
   "source": [
    "# Make Imports"
   ]
  },
  {
   "cell_type": "code",
   "execution_count": 342,
   "id": "a2b7139c",
   "metadata": {},
   "outputs": [],
   "source": [
    "import torch\n",
    "import torch.nn as nn\n",
    "import numpy as np\n",
    "import matplotlib.pyplot as plt\n",
    "import numpy\n",
    "from sklearn import datasets\n",
    "from sklearn.preprocessing import StandardScaler\n",
    "from sklearn.model_selection import train_test_split\n",
    "from sklearn import metrics"
   ]
  },
  {
   "cell_type": "markdown",
   "id": "bc9885ea",
   "metadata": {},
   "source": [
    "# Prepare Data"
   ]
  },
  {
   "cell_type": "code",
   "execution_count": 343,
   "id": "e3229ab5",
   "metadata": {},
   "outputs": [
    {
     "data": {
      "text/plain": [
       "(569, 30)"
      ]
     },
     "execution_count": 343,
     "metadata": {},
     "output_type": "execute_result"
    }
   ],
   "source": [
    "bc = datasets.load_breast_cancer()\n",
    "X, y = bc.data, bc.target\n",
    "\n",
    "n_samples, n_features = X.shape\n",
    "n_samples, n_features"
   ]
  },
  {
   "cell_type": "code",
   "execution_count": 344,
   "id": "94ca5d0d",
   "metadata": {},
   "outputs": [],
   "source": [
    "X_train, X_test, y_train, y_test = train_test_split(X, y, test_size=0.2, random_state=1234)\n",
    "\n",
    "# scale\n",
    "sc = StandardScaler()   # recommended for logistic regression\n",
    "X_train = sc.fit_transform(X_train)\n",
    "X_test = sc.transform(X_test)\n",
    "\n",
    "# to tensor\n",
    "X_train = torch.from_numpy(X_train.astype(np.float32))\n",
    "X_test = torch.from_numpy(X_test.astype(np.float32))\n",
    "y_train = torch.from_numpy(y_train.astype(np.float32))\n",
    "y_test = torch.from_numpy(y_test.astype(np.float32))\n",
    "\n",
    "# change y dim\n",
    "y_train = y_train.view(y_train.shape[0], 1)\n",
    "y_test = y_test.view(y_test.shape[0], 1)"
   ]
  },
  {
   "cell_type": "code",
   "execution_count": 345,
   "id": "c7c38d75",
   "metadata": {},
   "outputs": [
    {
     "data": {
      "text/plain": [
       "(torch.Size([455, 30]),\n",
       " torch.Size([114, 30]),\n",
       " torch.Size([455, 1]),\n",
       " torch.Size([114, 1]))"
      ]
     },
     "execution_count": 345,
     "metadata": {},
     "output_type": "execute_result"
    }
   ],
   "source": [
    "X_train.shape, X_test.shape, y_train.shape, y_test.shape"
   ]
  },
  {
   "cell_type": "markdown",
   "id": "4555dbb9",
   "metadata": {},
   "source": [
    "# Create Model"
   ]
  },
  {
   "cell_type": "code",
   "execution_count": 346,
   "id": "aa343663",
   "metadata": {},
   "outputs": [],
   "source": [
    "# f(x) = wx + b, sigmoid at the end\n",
    "class LogisticRegression(nn.Module):\n",
    "    def __init__(self, n_input_features):\n",
    "        super(LogisticRegression, self).__init__()\n",
    "        self.linear = nn.Linear(n_input_features, 1)\n",
    "        \n",
    "    def forward(self, x):\n",
    "        y_hat = torch.sigmoid(self.linear(x))\n",
    "        return y_hat"
   ]
  },
  {
   "cell_type": "markdown",
   "id": "8019cd89",
   "metadata": {},
   "source": [
    "# Training Loop"
   ]
  },
  {
   "cell_type": "code",
   "execution_count": 347,
   "id": "15db07a3",
   "metadata": {},
   "outputs": [
    {
     "name": "stdout",
     "output_type": "stream",
     "text": [
      "epoch 1000:, loss = 0.02197\n",
      "epoch 2000:, loss = 0.01812\n",
      "epoch 3000:, loss = 0.01572\n",
      "epoch 4000:, loss = 0.01394\n",
      "epoch 5000:, loss = 0.01254\n",
      "epoch 6000:, loss = 0.01140\n",
      "epoch 7000:, loss = 0.01045\n",
      "epoch 8000:, loss = 0.00965\n",
      "epoch 9000:, loss = 0.00896\n",
      "epoch 10000:, loss = 0.00837\n"
     ]
    }
   ],
   "source": [
    "EPOCHS = 10000\n",
    "LEARNING_RATE = 1\n",
    "\n",
    "# init model\n",
    "model = LogisticRegression(n_features)\n",
    "\n",
    "# init loss func and optimizer\n",
    "criterion = nn.BCELoss()\n",
    "optimizer = torch.optim.SGD(model.parameters(), lr=LEARNING_RATE)\n",
    "\n",
    "for epoch in range(EPOCHS):\n",
    "    y_hat = model.forward(X_train)      # forward pass\n",
    "    loss = criterion(y_hat, y_train)    # loss\n",
    "    loss.backward()                     # backward pass\n",
    "    optimizer.step()                    # update\n",
    "    optimizer.zero_grad()               # zero grad\n",
    "\n",
    "    if (epoch+1) % (EPOCHS/10) == 0:\n",
    "        print(f'epoch {epoch+1}:, loss = {loss.item():.5f}')"
   ]
  },
  {
   "cell_type": "markdown",
   "id": "fadfa29c",
   "metadata": {},
   "source": [
    "# Accuracy"
   ]
  },
  {
   "cell_type": "code",
   "execution_count": 348,
   "id": "4c8c8c94",
   "metadata": {},
   "outputs": [
    {
     "name": "stdout",
     "output_type": "stream",
     "text": [
      "Accuracy on test data: 96.4912%\n"
     ]
    }
   ],
   "source": [
    "actual = y_test\n",
    "predicted = model.forward(X_test).detach().numpy().round()\n",
    "Accuracy = metrics.accuracy_score(actual, predicted)\n",
    "print(f'Accuracy on test data: {100* Accuracy:.4f}%')"
   ]
  },
  {
   "cell_type": "markdown",
   "id": "22cfe959",
   "metadata": {},
   "source": [
    "# Confusion Matrix"
   ]
  },
  {
   "cell_type": "code",
   "execution_count": 349,
   "id": "662ae144",
   "metadata": {
    "scrolled": false
   },
   "outputs": [
    {
     "data": {
      "image/png": "[encoded data removed]",
      "text/plain": [
       "<Figure size 640x480 with 2 Axes>"
      ]
     },
     "metadata": {},
     "output_type": "display_data"
    }
   ],
   "source": [
    "confusion_matrix = metrics.confusion_matrix(actual, predicted)\n",
    "cm_display = metrics.ConfusionMatrixDisplay(confusion_matrix = confusion_matrix, display_labels = [False, True])\n",
    "cm_display.plot()\n",
    "plt.show()"
   ]
  }
 ],
 "metadata": {
  "kernelspec": {
   "display_name": "Python 3 (ipykernel)",
   "language": "python",
   "name": "python3"
  },
  "language_info": {
   "codemirror_mode": {
    "name": "ipython",
    "version": 3
   },
   "file_extension": ".py",
   "mimetype": "text/x-python",
   "name": "python",
   "nbconvert_exporter": "python",
   "pygments_lexer": "ipython3",
   "version": "3.10.11"
  }
 },
 "nbformat": 4,
 "nbformat_minor": 5
}
